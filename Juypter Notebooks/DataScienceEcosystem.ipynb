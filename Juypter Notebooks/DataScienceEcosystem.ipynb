{
 "cells": [
  {
   "cell_type": "markdown",
   "id": "85ce9d52-bbaf-4cfa-9b97-8b39989a6437",
   "metadata": {},
   "source": [
    "# Data Science Tools and Ecosystem\n"
   ]
  },
  {
   "cell_type": "markdown",
   "id": "4d61d150-14ce-465c-97bc-4aed30001f3e",
   "metadata": {},
   "source": [
    "In this notebook , Data Science Tools and Ecosystem are summarized"
   ]
  },
  {
   "cell_type": "markdown",
   "id": "e2458690-82be-4ebd-bef8-3555ea9bc09a",
   "metadata": {},
   "source": [
    "Some of the popular languages that Data Scientist use are :\n",
    "1. Python\n",
    "2. R\n",
    "3. Julia"
   ]
  },
  {
   "cell_type": "markdown",
   "id": "c58a2008-3303-4c84-8ea0-fd263b9c9a27",
   "metadata": {},
   "source": [
    "Some of the commonly used libraries for data scientist include :\n",
    "| Scientific Computing | Machine Learning and Deep learning | Data Visualisation |\n",
    "| ----------------------|------------------------------------|--------------------|\n",
    "| NumPy | Scklit Learn | Matplotlib |\n",
    "| SciPy | Keras | Seaborn |\n",
    "| Pandas | Tensor Flow | Plotlly |"
   ]
  },
  {
   "cell_type": "markdown",
   "id": "1e8ccc9c-868c-4342-971c-b0aadae74939",
   "metadata": {},
   "source": [
    "## **Data Science Tools**"
   ]
  },
  {
   "cell_type": "markdown",
   "id": "decc171e-05f8-4c85-ac73-69ce95fbf94b",
   "metadata": {},
   "source": [
    "| Data Science Tools |\n",
    "| ------------------ |\n",
    "| Apache Hadoop |\n",
    "| Apache Spark |\n",
    "|Apache Hive |\n",
    "| Apache Kafka |\n",
    "| PixelDust |\n",
    "| Hue |\n",
    " | Juypter Lab |\n",
    " | IBM Watson Studio |\n",
    " | Couch DB |\n",
    " | MySql |\n",
    " | Postgre Sql |\n",
    " "
   ]
  },
  {
   "cell_type": "markdown",
   "id": "0e267484-ecd0-42aa-9c37-8d4202d215ab",
   "metadata": {},
   "source": [
    "### Below are a few example of evaluating arthimetic expression in Python"
   ]
  },
  {
   "cell_type": "code",
   "execution_count": 1,
   "id": "bff27c7b-e045-42d4-b2af-55b7f55a4b33",
   "metadata": {
    "vscode": {
     "languageId": "r"
    }
   },
   "outputs": [],
   "source": [
    "a=10\n",
    "b=20\n"
   ]
  },
  {
   "cell_type": "code",
   "execution_count": 2,
   "id": "9d0de7ed-9e94-4294-91df-b76b9672f847",
   "metadata": {
    "vscode": {
     "languageId": "r"
    }
   },
   "outputs": [
    {
     "data": {
      "text/html": [
       "30"
      ],
      "text/latex": [
       "30"
      ],
      "text/markdown": [
       "30"
      ],
      "text/plain": [
       "[1] 30"
      ]
     },
     "metadata": {},
     "output_type": "display_data"
    }
   ],
   "source": [
    "a+b"
   ]
  },
  {
   "cell_type": "code",
   "execution_count": 3,
   "id": "c23eb68f-5f89-4449-9189-f8660760cc96",
   "metadata": {
    "vscode": {
     "languageId": "r"
    }
   },
   "outputs": [
    {
     "data": {
      "text/html": [
       "-10"
      ],
      "text/latex": [
       "-10"
      ],
      "text/markdown": [
       "-10"
      ],
      "text/plain": [
       "[1] -10"
      ]
     },
     "metadata": {},
     "output_type": "display_data"
    }
   ],
   "source": [
    "a-b"
   ]
  },
  {
   "cell_type": "code",
   "execution_count": 4,
   "id": "e2a8dbd3-f5a5-4c6a-8827-148d1f0fd1ad",
   "metadata": {
    "vscode": {
     "languageId": "r"
    }
   },
   "outputs": [
    {
     "data": {
      "text/html": [
       "200"
      ],
      "text/latex": [
       "200"
      ],
      "text/markdown": [
       "200"
      ],
      "text/plain": [
       "[1] 200"
      ]
     },
     "metadata": {},
     "output_type": "display_data"
    }
   ],
   "source": [
    "a*b"
   ]
  },
  {
   "cell_type": "code",
   "execution_count": 5,
   "id": "16ba5e04-972e-423f-b4dc-2650a6233e60",
   "metadata": {
    "vscode": {
     "languageId": "r"
    }
   },
   "outputs": [
    {
     "ename": "ERROR",
     "evalue": "Error in parse(text = x, srcfile = src): <text>:1:3: unexpected '/'\n1: a//\n      ^\n",
     "output_type": "error",
     "traceback": [
      "Error in parse(text = x, srcfile = src): <text>:1:3: unexpected '/'\n1: a//\n      ^\nTraceback:\n"
     ]
    }
   ],
   "source": [
    "a//b"
   ]
  },
  {
   "cell_type": "code",
   "execution_count": null,
   "id": "7261aa1d-6498-4aee-af67-999b1874a9a5",
   "metadata": {
    "vscode": {
     "languageId": "r"
    }
   },
   "outputs": [],
   "source": [
    "a/b"
   ]
  },
  {
   "cell_type": "code",
   "execution_count": null,
   "id": "ad4382e6-c811-4dce-af57-3326507e9b25",
   "metadata": {
    "vscode": {
     "languageId": "r"
    }
   },
   "outputs": [],
   "source": [
    "a**b"
   ]
  },
  {
   "cell_type": "markdown",
   "id": "00682745-74f8-476d-a8e4-ab0f3e407f1f",
   "metadata": {},
   "source": [
    "This a simple arithimetic expression to multiply then add integers"
   ]
  },
  {
   "cell_type": "code",
   "execution_count": null,
   "id": "cfbd0f78-b995-4475-8920-785c669a326c",
   "metadata": {
    "vscode": {
     "languageId": "r"
    }
   },
   "outputs": [],
   "source": [
    "(3*4)+5"
   ]
  },
  {
   "cell_type": "code",
   "execution_count": null,
   "id": "452b6d13-6235-41bd-a526-1e974cd1ae6c",
   "metadata": {
    "vscode": {
     "languageId": "r"
    }
   },
   "outputs": [],
   "source": [
    "minutes=int(input('Enter minutes '))\n",
    "hours=minutes/60\n",
    "print(hours)"
   ]
  },
  {
   "cell_type": "markdown",
   "id": "4a38bf6e-d8fe-4bb3-a42a-b6da5963e319",
   "metadata": {},
   "source": [
    "## Author \n"
   ]
  },
  {
   "cell_type": "markdown",
   "id": "f2624dad-2a56-4ed1-9a1b-d389c1a39578",
   "metadata": {},
   "source": [
    "Mayank Chouhan"
   ]
  },
  {
   "cell_type": "code",
   "execution_count": null,
   "id": "c2adddd8-169a-47db-bb3b-b8fe21af7023",
   "metadata": {
    "vscode": {
     "languageId": "r"
    }
   },
   "outputs": [],
   "source": []
  }
 ],
 "metadata": {
  "kernelspec": {
   "display_name": "R",
   "language": "R",
   "name": "ir"
  },
  "language_info": {
   "codemirror_mode": "r",
   "file_extension": ".r",
   "mimetype": "text/x-r-source",
   "name": "R",
   "pygments_lexer": "r",
   "version": "3.6.1"
  }
 },
 "nbformat": 4,
 "nbformat_minor": 5
}
