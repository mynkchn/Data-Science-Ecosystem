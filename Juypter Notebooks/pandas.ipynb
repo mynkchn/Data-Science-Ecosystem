{
 "cells": [
  {
   "cell_type": "markdown",
   "id": "8b200383-50be-4c30-aeb4-ca5046fb8387",
   "metadata": {},
   "source": [
    "# Using Pandas to play with data \n",
    "\n"
   ]
  },
  {
   "cell_type": "markdown",
   "id": "c049ebbd-b0ba-4d06-8fd8-6ae537a832b9",
   "metadata": {},
   "source": [
    "In these we will create a data frame using pandas and represent it \n"
   ]
  },
  {
   "cell_type": "markdown",
   "id": "9233d79b-49e7-496e-bd65-89125e918bf2",
   "metadata": {},
   "source": [
    "It consist of different data types \n",
    "* Integer\n",
    "* String\n",
    "* Boolean\n"
   ]
  },
  {
   "cell_type": "markdown",
   "id": "0c34fe02-15cf-4f9d-a22e-ff3a0107f3c3",
   "metadata": {},
   "source": [
    "__Meta Data About the data we are using :__\n",
    "| Variable | dtype |\n",
    "| ----- |--------|\n",
    "| Name | string |\n",
    "| Gender | integer |\n",
    "| Age | integer |\n",
    "| Grade | Char |"
   ]
  },
  {
   "cell_type": "code",
   "execution_count": 151,
   "id": "5f81ebdd-4b25-49f3-8179-ed685a7d31b3",
   "metadata": {},
   "outputs": [],
   "source": [
    "import pandas as pd\n",
    "import numpy as np\n",
    "import matplotlib.pyplot as plt\n"
   ]
  },
  {
   "cell_type": "code",
   "execution_count": 152,
   "id": "86c7df1a-8b0b-4630-a2a9-cc237d39b004",
   "metadata": {},
   "outputs": [],
   "source": [
    "data={\n",
    "'Name':['Mayank','Devvrat','Khushal','Vaibhav','Piyush'],\n",
    "'Gender':['1','1','1','1','0'],\n",
    "'Age':[19,19,19,19,20],\n",
    "'Grade':['A','A','A','A','A'],\n",
    "}"
   ]
  },
  {
   "cell_type": "code",
   "execution_count": 153,
   "id": "75b13bee-dcdc-4818-8693-68ced576a611",
   "metadata": {},
   "outputs": [],
   "source": [
    "df=pd.DataFrame(data)"
   ]
  },
  {
   "cell_type": "code",
   "execution_count": 154,
   "id": "c1d2cb70-1aba-4dfb-8fe1-78396ccd95d9",
   "metadata": {},
   "outputs": [
    {
     "name": "stdout",
     "output_type": "stream",
     "text": [
      "      Name Gender  Age Grade\n",
      "0   Mayank      1   19     A\n",
      "1  Devvrat      1   19     A\n"
     ]
    }
   ],
   "source": [
    "print(df.head(2))"
   ]
  },
  {
   "cell_type": "code",
   "execution_count": 155,
   "id": "d33383c7-7d3e-4d54-afe6-c92c929397f7",
   "metadata": {},
   "outputs": [
    {
     "data": {
      "text/html": [
       "<div>\n",
       "<style scoped>\n",
       "    .dataframe tbody tr th:only-of-type {\n",
       "        vertical-align: middle;\n",
       "    }\n",
       "\n",
       "    .dataframe tbody tr th {\n",
       "        vertical-align: top;\n",
       "    }\n",
       "\n",
       "    .dataframe thead th {\n",
       "        text-align: right;\n",
       "    }\n",
       "</style>\n",
       "<table border=\"1\" class=\"dataframe\">\n",
       "  <thead>\n",
       "    <tr style=\"text-align: right;\">\n",
       "      <th></th>\n",
       "      <th>Name</th>\n",
       "      <th>Gender</th>\n",
       "      <th>Age</th>\n",
       "      <th>Grade</th>\n",
       "    </tr>\n",
       "  </thead>\n",
       "  <tbody>\n",
       "    <tr>\n",
       "      <th>0</th>\n",
       "      <td>Mayank</td>\n",
       "      <td>1</td>\n",
       "      <td>19</td>\n",
       "      <td>A</td>\n",
       "    </tr>\n",
       "    <tr>\n",
       "      <th>1</th>\n",
       "      <td>Devvrat</td>\n",
       "      <td>1</td>\n",
       "      <td>19</td>\n",
       "      <td>A</td>\n",
       "    </tr>\n",
       "    <tr>\n",
       "      <th>2</th>\n",
       "      <td>Khushal</td>\n",
       "      <td>1</td>\n",
       "      <td>19</td>\n",
       "      <td>A</td>\n",
       "    </tr>\n",
       "    <tr>\n",
       "      <th>3</th>\n",
       "      <td>Vaibhav</td>\n",
       "      <td>1</td>\n",
       "      <td>19</td>\n",
       "      <td>A</td>\n",
       "    </tr>\n",
       "    <tr>\n",
       "      <th>4</th>\n",
       "      <td>Piyush</td>\n",
       "      <td>0</td>\n",
       "      <td>20</td>\n",
       "      <td>A</td>\n",
       "    </tr>\n",
       "  </tbody>\n",
       "</table>\n",
       "</div>"
      ],
      "text/plain": [
       "      Name Gender  Age Grade\n",
       "0   Mayank      1   19     A\n",
       "1  Devvrat      1   19     A\n",
       "2  Khushal      1   19     A\n",
       "3  Vaibhav      1   19     A\n",
       "4   Piyush      0   20     A"
      ]
     },
     "execution_count": 155,
     "metadata": {},
     "output_type": "execute_result"
    }
   ],
   "source": [
    "df.tail()"
   ]
  },
  {
   "cell_type": "code",
   "execution_count": 156,
   "id": "10964bbe-62a5-46ef-9940-d42133dc6f3e",
   "metadata": {},
   "outputs": [
    {
     "data": {
      "text/plain": [
       "(5, 4)"
      ]
     },
     "execution_count": 156,
     "metadata": {},
     "output_type": "execute_result"
    }
   ],
   "source": [
    "df.shape"
   ]
  },
  {
   "cell_type": "code",
   "execution_count": 157,
   "id": "e1a9c4e8-e74a-4ddc-bed8-5dd73c1a21a3",
   "metadata": {},
   "outputs": [
    {
     "data": {
      "text/plain": [
       "Index(['Name', 'Gender', 'Age', 'Grade'], dtype='object')"
      ]
     },
     "execution_count": 157,
     "metadata": {},
     "output_type": "execute_result"
    }
   ],
   "source": [
    "df.columns"
   ]
  },
  {
   "cell_type": "code",
   "execution_count": 158,
   "id": "f065ecd3-b99b-4b33-8e7d-02d00735c164",
   "metadata": {},
   "outputs": [],
   "source": [
    "df.rename(columns={'Gender':'Active'},inplace='True')"
   ]
  },
  {
   "cell_type": "code",
   "execution_count": 159,
   "id": "ccb86a02-4603-41f8-85f5-d506a330c672",
   "metadata": {},
   "outputs": [
    {
     "data": {
      "text/html": [
       "<div>\n",
       "<style scoped>\n",
       "    .dataframe tbody tr th:only-of-type {\n",
       "        vertical-align: middle;\n",
       "    }\n",
       "\n",
       "    .dataframe tbody tr th {\n",
       "        vertical-align: top;\n",
       "    }\n",
       "\n",
       "    .dataframe thead th {\n",
       "        text-align: right;\n",
       "    }\n",
       "</style>\n",
       "<table border=\"1\" class=\"dataframe\">\n",
       "  <thead>\n",
       "    <tr style=\"text-align: right;\">\n",
       "      <th></th>\n",
       "      <th>Name</th>\n",
       "      <th>Active</th>\n",
       "      <th>Age</th>\n",
       "      <th>Grade</th>\n",
       "    </tr>\n",
       "  </thead>\n",
       "  <tbody>\n",
       "    <tr>\n",
       "      <th>0</th>\n",
       "      <td>Mayank</td>\n",
       "      <td>1</td>\n",
       "      <td>19</td>\n",
       "      <td>A</td>\n",
       "    </tr>\n",
       "    <tr>\n",
       "      <th>1</th>\n",
       "      <td>Devvrat</td>\n",
       "      <td>1</td>\n",
       "      <td>19</td>\n",
       "      <td>A</td>\n",
       "    </tr>\n",
       "    <tr>\n",
       "      <th>2</th>\n",
       "      <td>Khushal</td>\n",
       "      <td>1</td>\n",
       "      <td>19</td>\n",
       "      <td>A</td>\n",
       "    </tr>\n",
       "    <tr>\n",
       "      <th>3</th>\n",
       "      <td>Vaibhav</td>\n",
       "      <td>1</td>\n",
       "      <td>19</td>\n",
       "      <td>A</td>\n",
       "    </tr>\n",
       "    <tr>\n",
       "      <th>4</th>\n",
       "      <td>Piyush</td>\n",
       "      <td>0</td>\n",
       "      <td>20</td>\n",
       "      <td>A</td>\n",
       "    </tr>\n",
       "  </tbody>\n",
       "</table>\n",
       "</div>"
      ],
      "text/plain": [
       "      Name Active  Age Grade\n",
       "0   Mayank      1   19     A\n",
       "1  Devvrat      1   19     A\n",
       "2  Khushal      1   19     A\n",
       "3  Vaibhav      1   19     A\n",
       "4   Piyush      0   20     A"
      ]
     },
     "execution_count": 159,
     "metadata": {},
     "output_type": "execute_result"
    }
   ],
   "source": [
    "df.dropna()"
   ]
  },
  {
   "cell_type": "code",
   "execution_count": 160,
   "id": "2c145b9b-33f9-4d1e-854b-3f96fd699986",
   "metadata": {},
   "outputs": [
    {
     "data": {
      "text/plain": [
       "Name      0\n",
       "Active    0\n",
       "Age       0\n",
       "Grade     0\n",
       "dtype: int64"
      ]
     },
     "execution_count": 160,
     "metadata": {},
     "output_type": "execute_result"
    }
   ],
   "source": [
    "df.isnull().sum()"
   ]
  },
  {
   "cell_type": "markdown",
   "id": "958af22f-b18d-479d-91a6-ee761cc751b7",
   "metadata": {},
   "source": [
    "# We will plot the students based on their ages "
   ]
  },
  {
   "cell_type": "markdown",
   "id": "27a50376-7fcb-4095-98e0-d3b2c545b144",
   "metadata": {},
   "source": [
    "Lets take x as age and y as name of students now we will plot a graph using matlpotlib , label x as age and y as name of students"
   ]
  },
  {
   "cell_type": "code",
   "execution_count": 163,
   "id": "f4b0be60-cf5e-42be-a0f2-5d1662412c79",
   "metadata": {},
   "outputs": [
    {
     "data": {
      "image/png": "[encoded data removed]",
      "text/plain": [
       "<Figure size 640x480 with 1 Axes>"
      ]
     },
     "metadata": {},
     "output_type": "display_data"
    }
   ],
   "source": [
    "plt.plot(df.Age,df.Name)\n",
    "plt.xlabel('Age')\n",
    "plt.ylabel('Names')\n",
    "plt.title('Graph based on the name and ages of student')\n",
    "plt.show()"
   ]
  },
  {
   "cell_type": "code",
   "execution_count": 164,
   "id": "99dcf754-69a3-44ec-a07e-066dbcba98df",
   "metadata": {},
   "outputs": [
    {
     "data": {
      "text/html": [
       "<div>\n",
       "<style scoped>\n",
       "    .dataframe tbody tr th:only-of-type {\n",
       "        vertical-align: middle;\n",
       "    }\n",
       "\n",
       "    .dataframe tbody tr th {\n",
       "        vertical-align: top;\n",
       "    }\n",
       "\n",
       "    .dataframe thead th {\n",
       "        text-align: right;\n",
       "    }\n",
       "</style>\n",
       "<table border=\"1\" class=\"dataframe\">\n",
       "  <thead>\n",
       "    <tr style=\"text-align: right;\">\n",
       "      <th></th>\n",
       "      <th>Name</th>\n",
       "      <th>Active</th>\n",
       "      <th>Age</th>\n",
       "      <th>Grade</th>\n",
       "    </tr>\n",
       "  </thead>\n",
       "  <tbody>\n",
       "    <tr>\n",
       "      <th>0</th>\n",
       "      <td>Mayank</td>\n",
       "      <td>1</td>\n",
       "      <td>19</td>\n",
       "      <td>A</td>\n",
       "    </tr>\n",
       "    <tr>\n",
       "      <th>1</th>\n",
       "      <td>Devvrat</td>\n",
       "      <td>1</td>\n",
       "      <td>19</td>\n",
       "      <td>A</td>\n",
       "    </tr>\n",
       "    <tr>\n",
       "      <th>2</th>\n",
       "      <td>Khushal</td>\n",
       "      <td>1</td>\n",
       "      <td>19</td>\n",
       "      <td>A</td>\n",
       "    </tr>\n",
       "    <tr>\n",
       "      <th>3</th>\n",
       "      <td>Vaibhav</td>\n",
       "      <td>1</td>\n",
       "      <td>19</td>\n",
       "      <td>A</td>\n",
       "    </tr>\n",
       "    <tr>\n",
       "      <th>4</th>\n",
       "      <td>Piyush</td>\n",
       "      <td>0</td>\n",
       "      <td>20</td>\n",
       "      <td>A</td>\n",
       "    </tr>\n",
       "  </tbody>\n",
       "</table>\n",
       "</div>"
      ],
      "text/plain": [
       "      Name Active  Age Grade\n",
       "0   Mayank      1   19     A\n",
       "1  Devvrat      1   19     A\n",
       "2  Khushal      1   19     A\n",
       "3  Vaibhav      1   19     A\n",
       "4   Piyush      0   20     A"
      ]
     },
     "execution_count": 164,
     "metadata": {},
     "output_type": "execute_result"
    }
   ],
   "source": [
    "df"
   ]
  },
  {
   "cell_type": "markdown",
   "id": "4bb91eef-9901-497d-b57a-50f1f5e6164c",
   "metadata": {},
   "source": [
    "# Plotting a bar chart for a random data frame"
   ]
  },
  {
   "cell_type": "code",
   "execution_count": 166,
   "id": "d35cb0b4-fa97-4b18-abb6-d3399d39534a",
   "metadata": {},
   "outputs": [],
   "source": [
    "new_data = {\n",
    "    'Category': ['Apple', 'Banana', 'Carrot', 'Dragon Fruit', 'Mango'],\n",
    "    'Sales': [150, 300, 450, 200, 350]\n",
    "}"
   ]
  },
  {
   "cell_type": "code",
   "execution_count": 167,
   "id": "1ed7fedf-c45b-4742-85eb-07e631e435a5",
   "metadata": {},
   "outputs": [],
   "source": [
    "df=pd.DataFrame(new_data)"
   ]
  },
  {
   "cell_type": "code",
   "execution_count": 168,
   "id": "983c469c-b451-4289-a903-c64392d59355",
   "metadata": {},
   "outputs": [
    {
     "data": {
      "text/html": [
       "<div>\n",
       "<style scoped>\n",
       "    .dataframe tbody tr th:only-of-type {\n",
       "        vertical-align: middle;\n",
       "    }\n",
       "\n",
       "    .dataframe tbody tr th {\n",
       "        vertical-align: top;\n",
       "    }\n",
       "\n",
       "    .dataframe thead th {\n",
       "        text-align: right;\n",
       "    }\n",
       "</style>\n",
       "<table border=\"1\" class=\"dataframe\">\n",
       "  <thead>\n",
       "    <tr style=\"text-align: right;\">\n",
       "      <th></th>\n",
       "      <th>Category</th>\n",
       "      <th>Sales</th>\n",
       "    </tr>\n",
       "  </thead>\n",
       "  <tbody>\n",
       "    <tr>\n",
       "      <th>0</th>\n",
       "      <td>Apple</td>\n",
       "      <td>150</td>\n",
       "    </tr>\n",
       "    <tr>\n",
       "      <th>1</th>\n",
       "      <td>Banana</td>\n",
       "      <td>300</td>\n",
       "    </tr>\n",
       "    <tr>\n",
       "      <th>2</th>\n",
       "      <td>Carrot</td>\n",
       "      <td>450</td>\n",
       "    </tr>\n",
       "    <tr>\n",
       "      <th>3</th>\n",
       "      <td>Dragon Fruit</td>\n",
       "      <td>200</td>\n",
       "    </tr>\n",
       "    <tr>\n",
       "      <th>4</th>\n",
       "      <td>Mango</td>\n",
       "      <td>350</td>\n",
       "    </tr>\n",
       "  </tbody>\n",
       "</table>\n",
       "</div>"
      ],
      "text/plain": [
       "       Category  Sales\n",
       "0         Apple    150\n",
       "1        Banana    300\n",
       "2        Carrot    450\n",
       "3  Dragon Fruit    200\n",
       "4         Mango    350"
      ]
     },
     "execution_count": 168,
     "metadata": {},
     "output_type": "execute_result"
    }
   ],
   "source": [
    "df"
   ]
  },
  {
   "cell_type": "code",
   "execution_count": 169,
   "id": "5e7b99a3-7752-4042-a56e-01bf185e1bf9",
   "metadata": {},
   "outputs": [
    {
     "data": {
      "image/png": "[encoded data removed]",
      "text/plain": [
       "<Figure size 640x480 with 1 Axes>"
      ]
     },
     "metadata": {},
     "output_type": "display_data"
    }
   ],
   "source": [
    "plt.bar(df.Category,df.Sales)\n",
    "plt.xlabel('Category')\n",
    "plt.ylabel('Sales')\n",
    "plt.title('These gives the record of fruit sales in year 2025')\n",
    "plt.legend(df.Category)\n",
    "plt.show()"
   ]
  },
  {
   "cell_type": "code",
   "execution_count": null,
   "id": "579336b2-b0eb-4044-9a46-bed299b9c104",
   "metadata": {},
   "outputs": [],
   "source": []
  }
 ],
 "metadata": {
  "kernelspec": {
   "display_name": "anaconda-2024.02-py310",
   "language": "python",
   "name": "conda-env-anaconda-2024.02-py310-py"
  },
  "language_info": {
   "codemirror_mode": {
    "name": "ipython",
    "version": 3
   },
   "file_extension": ".py",
   "mimetype": "text/x-python",
   "name": "python",
   "nbconvert_exporter": "python",
   "pygments_lexer": "ipython3",
   "version": "3.10.14"
  }
 },
 "nbformat": 4,
 "nbformat_minor": 5
}
