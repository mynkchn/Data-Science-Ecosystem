{
 "cells": [
  {
   "cell_type": "markdown",
   "metadata": {},
   "source": [
    "# Accessing Database Using Python\n"
   ]
  },
  {
   "cell_type": "code",
   "execution_count": 1,
   "metadata": {},
   "outputs": [],
   "source": [
    "# Importing sqlite\n",
    "import sqlite3"
   ]
  },
  {
   "cell_type": "code",
   "execution_count": 2,
   "metadata": {},
   "outputs": [
    {
     "data": {
      "text/plain": [
       "<sqlite3.Cursor at 0x28e632748c0>"
      ]
     },
     "execution_count": 2,
     "metadata": {},
     "output_type": "execute_result"
    }
   ],
   "source": [
    "# Connecting to sqlite\n",
    "conn=sqlite3.connect('Instructor.db')\n",
    "# Cursor to perform sql operations\n",
    "cursor=conn.cursor()\n",
    "cursor.execute(\"PRAGMA busy_timeout = 5000\")\n"
   ]
  },
  {
   "cell_type": "markdown",
   "metadata": {},
   "source": [
    "Creating a table in database\n"
   ]
  },
  {
   "cell_type": "code",
   "execution_count": 3,
   "metadata": {},
   "outputs": [
    {
     "data": {
      "text/plain": [
       "<sqlite3.Cursor at 0x28e632748c0>"
      ]
     },
     "execution_count": 3,
     "metadata": {},
     "output_type": "execute_result"
    }
   ],
   "source": [
    "s='''DROP TABLE IF EXISTS INSTRUCTOR '''\n",
    "cursor.execute(s)"
   ]
  },
  {
   "cell_type": "code",
   "execution_count": 4,
   "metadata": {},
   "outputs": [
    {
     "data": {
      "text/plain": [
       "<sqlite3.Cursor at 0x28e632748c0>"
      ]
     },
     "execution_count": 4,
     "metadata": {},
     "output_type": "execute_result"
    }
   ],
   "source": [
    "table='''Create Table if not exists Instructor (ID INTEGER PRIMARY KEY NOT NULL, FNAME VARCHAR(20), LNAME VARCHAR(20), CITY VARCHAR(20), CCODE CHAR(2));'''\n",
    "cursor.execute(table)"
   ]
  },
  {
   "cell_type": "markdown",
   "metadata": {},
   "source": [
    "Insert The data Into table"
   ]
  },
  {
   "cell_type": "code",
   "execution_count": 5,
   "metadata": {},
   "outputs": [
    {
     "data": {
      "text/plain": [
       "<sqlite3.Cursor at 0x28e632748c0>"
      ]
     },
     "execution_count": 5,
     "metadata": {},
     "output_type": "execute_result"
    }
   ],
   "source": [
    "f='''Insert into Instructor values (1,'Mayank','Chouhan','Indore','IN')'''\n",
    "cursor.execute(f)\n",
    "\n"
   ]
  },
  {
   "cell_type": "markdown",
   "metadata": {},
   "source": [
    "Query the data in table"
   ]
  },
  {
   "cell_type": "code",
   "execution_count": 6,
   "metadata": {},
   "outputs": [
    {
     "name": "stdout",
     "output_type": "stream",
     "text": [
      "(1, 'Mayank', 'Chouhan', 'Indore', 'IN')\n"
     ]
    }
   ],
   "source": [
    "statement='''Select * From Instructor'''\n",
    "cursor.execute(statement)\n",
    "output=cursor.fetchall()\n",
    "for row in output :\n",
    "    print(row)"
   ]
  },
  {
   "cell_type": "code",
   "execution_count": 7,
   "metadata": {},
   "outputs": [
    {
     "name": "stdout",
     "output_type": "stream",
     "text": [
      "[]\n"
     ]
    }
   ],
   "source": [
    "limted_data=cursor.fetchmany(0)\n",
    "print(limted_data)"
   ]
  },
  {
   "cell_type": "code",
   "execution_count": 8,
   "metadata": {},
   "outputs": [
    {
     "data": {
      "text/plain": [
       "<sqlite3.Cursor at 0x28e632748c0>"
      ]
     },
     "execution_count": 8,
     "metadata": {},
     "output_type": "execute_result"
    }
   ],
   "source": [
    "query='''Update Instructor set City='Indriapur' where Fname='Mayank' '''\n",
    "cursor.execute(query)"
   ]
  },
  {
   "cell_type": "markdown",
   "metadata": {},
   "source": [
    "Now we will use pandas to retrieve data\n"
   ]
  },
  {
   "cell_type": "code",
   "execution_count": 9,
   "metadata": {},
   "outputs": [],
   "source": [
    "import pandas as pd"
   ]
  },
  {
   "cell_type": "code",
   "execution_count": null,
   "metadata": {},
   "outputs": [
    {
     "data": {
      "text/html": [
       "<div>\n",
       "<style scoped>\n",
       "    .dataframe tbody tr th:only-of-type {\n",
       "        vertical-align: middle;\n",
       "    }\n",
       "\n",
       "    .dataframe tbody tr th {\n",
       "        vertical-align: top;\n",
       "    }\n",
       "\n",
       "    .dataframe thead th {\n",
       "        text-align: right;\n",
       "    }\n",
       "</style>\n",
       "<table border=\"1\" class=\"dataframe\">\n",
       "  <thead>\n",
       "    <tr style=\"text-align: right;\">\n",
       "      <th></th>\n",
       "      <th>ID</th>\n",
       "      <th>FNAME</th>\n",
       "      <th>LNAME</th>\n",
       "      <th>CITY</th>\n",
       "      <th>CCODE</th>\n",
       "    </tr>\n",
       "  </thead>\n",
       "  <tbody>\n",
       "    <tr>\n",
       "      <th>0</th>\n",
       "      <td>1</td>\n",
       "      <td>Mayank</td>\n",
       "      <td>Chouhan</td>\n",
       "      <td>Indriapur</td>\n",
       "      <td>IN</td>\n",
       "    </tr>\n",
       "  </tbody>\n",
       "</table>\n",
       "</div>"
      ],
      "text/plain": [
       "   ID   FNAME    LNAME       CITY CCODE\n",
       "0   1  Mayank  Chouhan  Indriapur    IN"
      ]
     },
     "execution_count": 10,
     "metadata": {},
     "output_type": "execute_result"
    }
   ],
   "source": [
    "df=pd.read_sql_query('select * from instructor',conn,index_col=False)\n",
    "df"
   ]
  },
  {
   "cell_type": "code",
   "execution_count": 11,
   "metadata": {},
   "outputs": [],
   "source": [
    "conn.close()"
   ]
  },
  {
   "cell_type": "code",
   "execution_count": 1,
   "metadata": {},
   "outputs": [
    {
     "name": "stdout",
     "output_type": "stream",
     "text": [
      " Volume in drive D is New Volume\n",
      " Volume Serial Number is 42D4-B529\n",
      "\n",
      " Directory of d:\\Data Science\\Playing With Data\n",
      "\n",
      "23-03-2025  13:47    <DIR>          .\n",
      "16-03-2025  11:21    <DIR>          ..\n",
      "16-03-2025  10:02    <DIR>          __pycache__\n",
      "16-03-2025  17:41               968 api.py\n",
      "15-03-2025  12:26               312 automation.py\n",
      "16-03-2025  12:33             2,428 beautiful_soup.py\n",
      "06-03-2025  01:31               478 clean_data.py\n",
      "15-03-2025  11:45             2,017 data.csv\n",
      "23-03-2025  14:04             6,139 db_api.ipynb\n",
      "16-03-2025  09:14               613 extracting.py\n",
      "16-03-2025  09:07               683 feq.py\n",
      "15-03-2025  22:55                45 feq.txt\n",
      "16-03-2025  11:57               375 Fruityvice,py\n",
      "23-03-2025  13:47             8,192 Instructor.db\n",
      "16-03-2025  10:23             2,233 numpys.py\n",
      "15-03-2025  11:00               499 oops.py\n",
      "23-03-2025  13:19             2,601 panda.py\n",
      "16-03-2025  11:48               554 RandomUsers.py\n",
      "06-03-2025  01:06               317 recipes.csv\n",
      "13-03-2025  22:24             1,695 Regx.py\n",
      "15-03-2025  22:41             2,003 rwa.py\n",
      "15-03-2025  22:14               640 text.txt\n",
      "15-03-2025  12:33             1,178 textAnalysis.py\n",
      "              20 File(s)         33,970 bytes\n",
      "               3 Dir(s)  102,823,149,568 bytes free\n"
     ]
    }
   ],
   "source": [
    "%pwd\n",
    "%ls"
   ]
  }
 ],
 "metadata": {
  "kernelspec": {
   "display_name": "base",
   "language": "python",
   "name": "python3"
  },
  "language_info": {
   "codemirror_mode": {
    "name": "ipython",
    "version": 3
   },
   "file_extension": ".py",
   "mimetype": "text/x-python",
   "name": "python",
   "nbconvert_exporter": "python",
   "pygments_lexer": "ipython3",
   "version": "3.12.7"
  }
 },
 "nbformat": 4,
 "nbformat_minor": 2
}
